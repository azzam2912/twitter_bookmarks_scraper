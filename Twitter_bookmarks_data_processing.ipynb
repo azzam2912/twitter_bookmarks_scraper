{
  "nbformat": 4,
  "nbformat_minor": 0,
  "metadata": {
    "colab": {
      "provenance": []
    },
    "kernelspec": {
      "name": "python3",
      "display_name": "Python 3"
    },
    "language_info": {
      "name": "python"
    }
  },
  "cells": [
    {
      "cell_type": "code",
      "source": [
        "# prompt: process json data where it is in list. Each list elements are a dictionary with key author, content, url.\n",
        "\n",
        "def process_json_data(json_data):\n",
        "  with open('twitter_bookmarks.csv', 'a') as f:\n",
        "    f.write(\"counter,author,content,url\\n\")\n",
        "    for item in json_data:\n",
        "      counter = item.get('counter', '')\n",
        "      author = item.get('author', '')\n",
        "      content = item.get('content', '')\n",
        "      url = item.get('url', '')\n",
        "      f.write(f\"{counter},{author},{content},{url}\\n\")\n"
      ],
      "metadata": {
        "id": "Vnwux5-Pc35I"
      },
      "execution_count": 90,
      "outputs": []
    },
    {
      "cell_type": "code",
      "source": [
        "# prompt: make function like process_json_data so it save into json instead of csv, where each element already cleaned from whitespace\n",
        "\n",
        "def process_json_data_to_json(json_data):\n",
        "  cleaned_data = []\n",
        "  counter = 1\n",
        "  for item in json_data:\n",
        "    item[\"counter\"] = str(counter)\n",
        "    counter+=1\n",
        "    for key in item:\n",
        "      item[key] = item[key].strip().replace('\\n', ' ').replace('\\t', ' ').replace(',', ' ')\n",
        "    cleaned_data.append(item)\n",
        "\n",
        "  # save to json\n",
        "  import json\n",
        "  with open('twitter_bookmarks_cleaned.json', 'w') as f:\n",
        "    json.dump(cleaned_data, f, indent=4)\n"
      ],
      "metadata": {
        "id": "lY5pg282gse5"
      },
      "execution_count": 91,
      "outputs": []
    },
    {
      "cell_type": "code",
      "source": [
        "# prompt: open json file named twitter_bookmarks.json\n",
        "\n",
        "import json\n",
        "\n",
        "with open('twitter_bookmarks.json', 'r') as f:\n",
        "  json_data = json.load(f)\n"
      ],
      "metadata": {
        "id": "4_OylDtxdPC_"
      },
      "execution_count": 92,
      "outputs": []
    },
    {
      "cell_type": "code",
      "source": [
        "process_json_data_to_json(json_data)"
      ],
      "metadata": {
        "id": "8AQhmmeqhFty"
      },
      "execution_count": 93,
      "outputs": []
    },
    {
      "cell_type": "code",
      "source": [
        "with open('twitter_bookmarks_cleaned.json', 'r') as f:\n",
        "  json_data_cleaned = json.load(f)"
      ],
      "metadata": {
        "id": "d_9uceIPi11k"
      },
      "execution_count": 94,
      "outputs": []
    },
    {
      "cell_type": "code",
      "source": [
        "process_json_data(json_data_cleaned)"
      ],
      "metadata": {
        "id": "8dyhC248fwjt"
      },
      "execution_count": 95,
      "outputs": []
    },
    {
      "cell_type": "code",
      "source": [
        "# prompt: open the csv file\n",
        "\n",
        "import pandas as pd\n",
        "df = pd.read_csv('twitter_bookmarks.csv')\n",
        "df.tail(5)\n",
        "\n"
      ],
      "metadata": {
        "colab": {
          "base_uri": "https://localhost:8080/",
          "height": 293
        },
        "id": "nu8wttMoeZfZ",
        "outputId": "ac75fa3a-a439-41a7-8842-7c573fdd5b31"
      },
      "execution_count": 114,
      "outputs": [
        {
          "output_type": "execute_result",
          "data": {
            "text/plain": [
              "     counter                                          author  \\\n",
              "344      345     Namya @ Supafast @namyakhann · Aug 25  2023   \n",
              "345      346               ʞǝǝǝǝʎǝԀ @peyeeeek · Aug 24  2023   \n",
              "346      347    Gading Nasution ᵍⁿ @gadingnstn · Jul 2  2023   \n",
              "347      348  Ahnaf | Sukses Kuliah! @ahnafau · Jun 27  2023   \n",
              "348      349   Eza \"Disclaimer\" Hazami @ezash · Mar 19  2023   \n",
              "\n",
              "                                               content  \\\n",
              "344  As requested  here're 12 gray alternatives for...   \n",
              "345                                             Monggo   \n",
              "346  buat deploy BE + Database gratisan.  enakan ht...   \n",
              "347  Gimana cara mulai magang saat CV masih kosong?...   \n",
              "348  Ada iPhone 5s ga kepake  semua fungsi normal d...   \n",
              "\n",
              "                                                   url  \n",
              "344  https://x.com/namyakhann/status/16950056209766...  \n",
              "345  https://x.com/peyeeeek/status/1694600639664541938  \n",
              "346  https://x.com/gadingnstn/status/16754173495273...  \n",
              "347   https://x.com/ahnafau/status/1673672800131842050  \n",
              "348     https://x.com/ezash/status/1637286495223693312  "
            ],
            "text/html": [
              "\n",
              "  <div id=\"df-dce2a23f-764c-4e92-b0aa-7650429549b3\" class=\"colab-df-container\">\n",
              "    <div>\n",
              "<style scoped>\n",
              "    .dataframe tbody tr th:only-of-type {\n",
              "        vertical-align: middle;\n",
              "    }\n",
              "\n",
              "    .dataframe tbody tr th {\n",
              "        vertical-align: top;\n",
              "    }\n",
              "\n",
              "    .dataframe thead th {\n",
              "        text-align: right;\n",
              "    }\n",
              "</style>\n",
              "<table border=\"1\" class=\"dataframe\">\n",
              "  <thead>\n",
              "    <tr style=\"text-align: right;\">\n",
              "      <th></th>\n",
              "      <th>counter</th>\n",
              "      <th>author</th>\n",
              "      <th>content</th>\n",
              "      <th>url</th>\n",
              "    </tr>\n",
              "  </thead>\n",
              "  <tbody>\n",
              "    <tr>\n",
              "      <th>344</th>\n",
              "      <td>345</td>\n",
              "      <td>Namya @ Supafast @namyakhann · Aug 25  2023</td>\n",
              "      <td>As requested  here're 12 gray alternatives for...</td>\n",
              "      <td>https://x.com/namyakhann/status/16950056209766...</td>\n",
              "    </tr>\n",
              "    <tr>\n",
              "      <th>345</th>\n",
              "      <td>346</td>\n",
              "      <td>ʞǝǝǝǝʎǝԀ @peyeeeek · Aug 24  2023</td>\n",
              "      <td>Monggo</td>\n",
              "      <td>https://x.com/peyeeeek/status/1694600639664541938</td>\n",
              "    </tr>\n",
              "    <tr>\n",
              "      <th>346</th>\n",
              "      <td>347</td>\n",
              "      <td>Gading Nasution ᵍⁿ @gadingnstn · Jul 2  2023</td>\n",
              "      <td>buat deploy BE + Database gratisan.  enakan ht...</td>\n",
              "      <td>https://x.com/gadingnstn/status/16754173495273...</td>\n",
              "    </tr>\n",
              "    <tr>\n",
              "      <th>347</th>\n",
              "      <td>348</td>\n",
              "      <td>Ahnaf | Sukses Kuliah! @ahnafau · Jun 27  2023</td>\n",
              "      <td>Gimana cara mulai magang saat CV masih kosong?...</td>\n",
              "      <td>https://x.com/ahnafau/status/1673672800131842050</td>\n",
              "    </tr>\n",
              "    <tr>\n",
              "      <th>348</th>\n",
              "      <td>349</td>\n",
              "      <td>Eza \"Disclaimer\" Hazami @ezash · Mar 19  2023</td>\n",
              "      <td>Ada iPhone 5s ga kepake  semua fungsi normal d...</td>\n",
              "      <td>https://x.com/ezash/status/1637286495223693312</td>\n",
              "    </tr>\n",
              "  </tbody>\n",
              "</table>\n",
              "</div>\n",
              "    <div class=\"colab-df-buttons\">\n",
              "\n",
              "  <div class=\"colab-df-container\">\n",
              "    <button class=\"colab-df-convert\" onclick=\"convertToInteractive('df-dce2a23f-764c-4e92-b0aa-7650429549b3')\"\n",
              "            title=\"Convert this dataframe to an interactive table.\"\n",
              "            style=\"display:none;\">\n",
              "\n",
              "  <svg xmlns=\"http://www.w3.org/2000/svg\" height=\"24px\" viewBox=\"0 -960 960 960\">\n",
              "    <path d=\"M120-120v-720h720v720H120Zm60-500h600v-160H180v160Zm220 220h160v-160H400v160Zm0 220h160v-160H400v160ZM180-400h160v-160H180v160Zm440 0h160v-160H620v160ZM180-180h160v-160H180v160Zm440 0h160v-160H620v160Z\"/>\n",
              "  </svg>\n",
              "    </button>\n",
              "\n",
              "  <style>\n",
              "    .colab-df-container {\n",
              "      display:flex;\n",
              "      gap: 12px;\n",
              "    }\n",
              "\n",
              "    .colab-df-convert {\n",
              "      background-color: #E8F0FE;\n",
              "      border: none;\n",
              "      border-radius: 50%;\n",
              "      cursor: pointer;\n",
              "      display: none;\n",
              "      fill: #1967D2;\n",
              "      height: 32px;\n",
              "      padding: 0 0 0 0;\n",
              "      width: 32px;\n",
              "    }\n",
              "\n",
              "    .colab-df-convert:hover {\n",
              "      background-color: #E2EBFA;\n",
              "      box-shadow: 0px 1px 2px rgba(60, 64, 67, 0.3), 0px 1px 3px 1px rgba(60, 64, 67, 0.15);\n",
              "      fill: #174EA6;\n",
              "    }\n",
              "\n",
              "    .colab-df-buttons div {\n",
              "      margin-bottom: 4px;\n",
              "    }\n",
              "\n",
              "    [theme=dark] .colab-df-convert {\n",
              "      background-color: #3B4455;\n",
              "      fill: #D2E3FC;\n",
              "    }\n",
              "\n",
              "    [theme=dark] .colab-df-convert:hover {\n",
              "      background-color: #434B5C;\n",
              "      box-shadow: 0px 1px 3px 1px rgba(0, 0, 0, 0.15);\n",
              "      filter: drop-shadow(0px 1px 2px rgba(0, 0, 0, 0.3));\n",
              "      fill: #FFFFFF;\n",
              "    }\n",
              "  </style>\n",
              "\n",
              "    <script>\n",
              "      const buttonEl =\n",
              "        document.querySelector('#df-dce2a23f-764c-4e92-b0aa-7650429549b3 button.colab-df-convert');\n",
              "      buttonEl.style.display =\n",
              "        google.colab.kernel.accessAllowed ? 'block' : 'none';\n",
              "\n",
              "      async function convertToInteractive(key) {\n",
              "        const element = document.querySelector('#df-dce2a23f-764c-4e92-b0aa-7650429549b3');\n",
              "        const dataTable =\n",
              "          await google.colab.kernel.invokeFunction('convertToInteractive',\n",
              "                                                    [key], {});\n",
              "        if (!dataTable) return;\n",
              "\n",
              "        const docLinkHtml = 'Like what you see? Visit the ' +\n",
              "          '<a target=\"_blank\" href=https://colab.research.google.com/notebooks/data_table.ipynb>data table notebook</a>'\n",
              "          + ' to learn more about interactive tables.';\n",
              "        element.innerHTML = '';\n",
              "        dataTable['output_type'] = 'display_data';\n",
              "        await google.colab.output.renderOutput(dataTable, element);\n",
              "        const docLink = document.createElement('div');\n",
              "        docLink.innerHTML = docLinkHtml;\n",
              "        element.appendChild(docLink);\n",
              "      }\n",
              "    </script>\n",
              "  </div>\n",
              "\n",
              "\n",
              "<div id=\"df-74bbf470-c7f3-43f7-a430-5d2221bceac0\">\n",
              "  <button class=\"colab-df-quickchart\" onclick=\"quickchart('df-74bbf470-c7f3-43f7-a430-5d2221bceac0')\"\n",
              "            title=\"Suggest charts\"\n",
              "            style=\"display:none;\">\n",
              "\n",
              "<svg xmlns=\"http://www.w3.org/2000/svg\" height=\"24px\"viewBox=\"0 0 24 24\"\n",
              "     width=\"24px\">\n",
              "    <g>\n",
              "        <path d=\"M19 3H5c-1.1 0-2 .9-2 2v14c0 1.1.9 2 2 2h14c1.1 0 2-.9 2-2V5c0-1.1-.9-2-2-2zM9 17H7v-7h2v7zm4 0h-2V7h2v10zm4 0h-2v-4h2v4z\"/>\n",
              "    </g>\n",
              "</svg>\n",
              "  </button>\n",
              "\n",
              "<style>\n",
              "  .colab-df-quickchart {\n",
              "      --bg-color: #E8F0FE;\n",
              "      --fill-color: #1967D2;\n",
              "      --hover-bg-color: #E2EBFA;\n",
              "      --hover-fill-color: #174EA6;\n",
              "      --disabled-fill-color: #AAA;\n",
              "      --disabled-bg-color: #DDD;\n",
              "  }\n",
              "\n",
              "  [theme=dark] .colab-df-quickchart {\n",
              "      --bg-color: #3B4455;\n",
              "      --fill-color: #D2E3FC;\n",
              "      --hover-bg-color: #434B5C;\n",
              "      --hover-fill-color: #FFFFFF;\n",
              "      --disabled-bg-color: #3B4455;\n",
              "      --disabled-fill-color: #666;\n",
              "  }\n",
              "\n",
              "  .colab-df-quickchart {\n",
              "    background-color: var(--bg-color);\n",
              "    border: none;\n",
              "    border-radius: 50%;\n",
              "    cursor: pointer;\n",
              "    display: none;\n",
              "    fill: var(--fill-color);\n",
              "    height: 32px;\n",
              "    padding: 0;\n",
              "    width: 32px;\n",
              "  }\n",
              "\n",
              "  .colab-df-quickchart:hover {\n",
              "    background-color: var(--hover-bg-color);\n",
              "    box-shadow: 0 1px 2px rgba(60, 64, 67, 0.3), 0 1px 3px 1px rgba(60, 64, 67, 0.15);\n",
              "    fill: var(--button-hover-fill-color);\n",
              "  }\n",
              "\n",
              "  .colab-df-quickchart-complete:disabled,\n",
              "  .colab-df-quickchart-complete:disabled:hover {\n",
              "    background-color: var(--disabled-bg-color);\n",
              "    fill: var(--disabled-fill-color);\n",
              "    box-shadow: none;\n",
              "  }\n",
              "\n",
              "  .colab-df-spinner {\n",
              "    border: 2px solid var(--fill-color);\n",
              "    border-color: transparent;\n",
              "    border-bottom-color: var(--fill-color);\n",
              "    animation:\n",
              "      spin 1s steps(1) infinite;\n",
              "  }\n",
              "\n",
              "  @keyframes spin {\n",
              "    0% {\n",
              "      border-color: transparent;\n",
              "      border-bottom-color: var(--fill-color);\n",
              "      border-left-color: var(--fill-color);\n",
              "    }\n",
              "    20% {\n",
              "      border-color: transparent;\n",
              "      border-left-color: var(--fill-color);\n",
              "      border-top-color: var(--fill-color);\n",
              "    }\n",
              "    30% {\n",
              "      border-color: transparent;\n",
              "      border-left-color: var(--fill-color);\n",
              "      border-top-color: var(--fill-color);\n",
              "      border-right-color: var(--fill-color);\n",
              "    }\n",
              "    40% {\n",
              "      border-color: transparent;\n",
              "      border-right-color: var(--fill-color);\n",
              "      border-top-color: var(--fill-color);\n",
              "    }\n",
              "    60% {\n",
              "      border-color: transparent;\n",
              "      border-right-color: var(--fill-color);\n",
              "    }\n",
              "    80% {\n",
              "      border-color: transparent;\n",
              "      border-right-color: var(--fill-color);\n",
              "      border-bottom-color: var(--fill-color);\n",
              "    }\n",
              "    90% {\n",
              "      border-color: transparent;\n",
              "      border-bottom-color: var(--fill-color);\n",
              "    }\n",
              "  }\n",
              "</style>\n",
              "\n",
              "  <script>\n",
              "    async function quickchart(key) {\n",
              "      const quickchartButtonEl =\n",
              "        document.querySelector('#' + key + ' button');\n",
              "      quickchartButtonEl.disabled = true;  // To prevent multiple clicks.\n",
              "      quickchartButtonEl.classList.add('colab-df-spinner');\n",
              "      try {\n",
              "        const charts = await google.colab.kernel.invokeFunction(\n",
              "            'suggestCharts', [key], {});\n",
              "      } catch (error) {\n",
              "        console.error('Error during call to suggestCharts:', error);\n",
              "      }\n",
              "      quickchartButtonEl.classList.remove('colab-df-spinner');\n",
              "      quickchartButtonEl.classList.add('colab-df-quickchart-complete');\n",
              "    }\n",
              "    (() => {\n",
              "      let quickchartButtonEl =\n",
              "        document.querySelector('#df-74bbf470-c7f3-43f7-a430-5d2221bceac0 button');\n",
              "      quickchartButtonEl.style.display =\n",
              "        google.colab.kernel.accessAllowed ? 'block' : 'none';\n",
              "    })();\n",
              "  </script>\n",
              "</div>\n",
              "\n",
              "    </div>\n",
              "  </div>\n"
            ],
            "application/vnd.google.colaboratory.intrinsic+json": {
              "type": "dataframe",
              "summary": "{\n  \"name\": \"df\",\n  \"rows\": 5,\n  \"fields\": [\n    {\n      \"column\": \"counter\",\n      \"properties\": {\n        \"dtype\": \"number\",\n        \"std\": 1,\n        \"min\": 345,\n        \"max\": 349,\n        \"num_unique_values\": 5,\n        \"samples\": [\n          346,\n          349,\n          347\n        ],\n        \"semantic_type\": \"\",\n        \"description\": \"\"\n      }\n    },\n    {\n      \"column\": \"author\",\n      \"properties\": {\n        \"dtype\": \"string\",\n        \"num_unique_values\": 5,\n        \"samples\": [\n          \"\\u029e\\u01dd\\u01dd\\u01dd\\u01dd\\u028e\\u01dd\\u0500 @peyeeeek \\u00b7 Aug 24  2023\",\n          \"Eza \\\"Disclaimer\\\" Hazami @ezash \\u00b7 Mar 19  2023\",\n          \"Gading Nasution \\u1d4d\\u207f @gadingnstn \\u00b7 Jul 2  2023\"\n        ],\n        \"semantic_type\": \"\",\n        \"description\": \"\"\n      }\n    },\n    {\n      \"column\": \"content\",\n      \"properties\": {\n        \"dtype\": \"string\",\n        \"num_unique_values\": 5,\n        \"samples\": [\n          \"Monggo\",\n          \"Ada iPhone 5s ga kepake  semua fungsi normal dan mulus kecuali minusnya cuma wifi only sama ini batangan doang wkwk  Kalo ini dijual  laku berapa ya? 500k? .-.\",\n          \"buat deploy BE + Database gratisan.  enakan http://fly.io apa http://railway.app ya?\"\n        ],\n        \"semantic_type\": \"\",\n        \"description\": \"\"\n      }\n    },\n    {\n      \"column\": \"url\",\n      \"properties\": {\n        \"dtype\": \"string\",\n        \"num_unique_values\": 5,\n        \"samples\": [\n          \"https://x.com/peyeeeek/status/1694600639664541938\",\n          \"https://x.com/ezash/status/1637286495223693312\",\n          \"https://x.com/gadingnstn/status/1675417349527339010\"\n        ],\n        \"semantic_type\": \"\",\n        \"description\": \"\"\n      }\n    }\n  ]\n}"
            }
          },
          "metadata": {},
          "execution_count": 114
        }
      ]
    },
    {
      "cell_type": "code",
      "source": [
        "# prompt: from the csv, process the data as follows:\n",
        "# content about math append to dataframe math\n",
        "# content about jkt48, idoling, or japanese append to dataframe idol\n",
        "# content about coding or tech append to dataframe tech\n",
        "# other content append to dataframe other\n",
        "\n",
        "import json\n",
        "import pandas as pd\n",
        "\n",
        "# dictionary where the value are dataframes\n",
        "term_dict = {}\n",
        "df_dict = {}\n",
        "name_list = [\"math\", \"idol\", \"tech\", \"other\"]\n",
        "\n",
        "term_dict[\"math\"] = [\"math\", \"find \", \"geometry\", \"other\", \"theorem\", \"puzzle\",\n",
        "                     \"mirangu\", \"cetin\", \"solution\", \"barra\", \"calculate\", \"angle\",\n",
        "                     \"prove\", \"question\"]\n",
        "term_dict[\"idol\"] = [\"idol\", \"jkt48\", \"48\", \"lana\", \"erin\", \"elin\", \"peyeeeek\",\n",
        "                     \"yokanang\", \"greesel\", \"kamaniya\", \"lockscreen\", \"ofc\", \"photobook\",\n",
        "                     \"cynthia\", \"wota\",\"jeketi\", \"pajama\", \"cepio\", \"fiony\", \"aisa\",\n",
        "                     \"flora\", \"maeng\", \"icel\", \"kathy\", \"keti\", \"gracie\", \"rohmatkun\",\n",
        "                     \"emot\", \"neru\", \"andiano\", \"flyingglunt\"]\n",
        "term_dict[\"tech\"] = [\"code\",\"coding\", \"tech\", \"program\", \"web\", \"memory\", \"software\",\n",
        "                     \"dev\", \"engineer\", \"deploy\", \"backend\", \"frontend\",\n",
        "                     \"html\", \"javascript\", \"css\", \"js\"]\n"
      ],
      "metadata": {
        "id": "Aq-nU5DalUUF"
      },
      "execution_count": 184,
      "outputs": []
    },
    {
      "cell_type": "code",
      "source": [
        "for k in name_list:\n",
        "  df_dict[k] = pd.DataFrame(columns=[\"counter\", \"author\", \"content\", \"url\"])\n",
        "\n",
        "def classify_df(df, df_dict):\n",
        "  for index, row in df.iterrows():\n",
        "    content = str(row['content']).encode('ascii', 'ignore').decode().lower()\n",
        "    author = str(row['author']).encode('ascii', 'ignore').decode().lower()\n",
        "    found = False\n",
        "    query = content + \" \" + author\n",
        "    for key in term_dict.keys():\n",
        "      if any(term in query for term in term_dict[key]):\n",
        "        df_dict[key].loc[len(df_dict[key])] = row\n",
        "        found = True\n",
        "        break\n",
        "    if not found:\n",
        "      df_dict[\"other\"].loc[len(df_dict[\"other\"])] = row\n"
      ],
      "metadata": {
        "id": "RrHsWkwFvFWt"
      },
      "execution_count": 185,
      "outputs": []
    },
    {
      "cell_type": "code",
      "source": [
        "# prompt: make function to save dataframe into csv with the name same as the variable name\n",
        "def save_df_to_csv(df_dict):\n",
        "  for k, v in df_dict.items():\n",
        "    v.to_csv(f\"{k}.csv\", index=False)\n"
      ],
      "metadata": {
        "id": "MS2T0Zzaq5Zx"
      },
      "execution_count": 130,
      "outputs": []
    },
    {
      "cell_type": "code",
      "source": [
        "classify_df(df, df_dict)"
      ],
      "metadata": {
        "id": "xxdP35WEvQAO"
      },
      "execution_count": 186,
      "outputs": []
    },
    {
      "cell_type": "code",
      "source": [
        "len(df_dict[\"other\"])"
      ],
      "metadata": {
        "colab": {
          "base_uri": "https://localhost:8080/"
        },
        "id": "6K4tMNANzFSa",
        "outputId": "19abfd62-91c0-4718-e9a3-cd5d2e126617"
      },
      "execution_count": 187,
      "outputs": [
        {
          "output_type": "execute_result",
          "data": {
            "text/plain": [
              "50"
            ]
          },
          "metadata": {},
          "execution_count": 187
        }
      ]
    },
    {
      "cell_type": "code",
      "source": [
        "len(df_dict[\"math\"])+len(df_dict[\"idol\"])+len(df_dict[\"tech\"])+len(df_dict[\"other\"])"
      ],
      "metadata": {
        "colab": {
          "base_uri": "https://localhost:8080/"
        },
        "id": "bLCvYHJu039V",
        "outputId": "d1c51ea2-b849-4e0f-e357-e9896362d80b"
      },
      "execution_count": 188,
      "outputs": [
        {
          "output_type": "execute_result",
          "data": {
            "text/plain": [
              "349"
            ]
          },
          "metadata": {},
          "execution_count": 188
        }
      ]
    },
    {
      "cell_type": "code",
      "source": [
        "# Call the function for each DataFrame\n",
        "save_df_to_csv(df_dict)"
      ],
      "metadata": {
        "id": "u0AxogOwrHX5"
      },
      "execution_count": 189,
      "outputs": []
    }
  ]
}